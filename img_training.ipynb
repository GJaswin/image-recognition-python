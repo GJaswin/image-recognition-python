{
 "cells": [
  {
   "cell_type": "markdown",
   "metadata": {},
   "source": [
    "# Image Recognition Model"
   ]
  },
  {
   "cell_type": "markdown",
   "metadata": {},
   "source": [
    "## Importing Libraries"
   ]
  },
  {
   "cell_type": "code",
   "execution_count": null,
   "metadata": {},
   "outputs": [],
   "source": [
    "import os\n",
    "import matplotlib.pyplot as plt\n",
    "import numpy as np\n",
    "import keras\n",
    "import tensorflow as tf\n",
    "from sklearn.model_selection import train_test_split\n",
    "from sklearn.decomposition import PCA\n",
    "from tensorflow.keras.preprocessing.image import load_img, img_to_array, ImageDataGenerator\n",
    "from tensorflow.keras import layers \n",
    "from tensorflow.keras import Sequential \n",
    "from tensorflow.keras.utils import to_categorical\n",
    "os.getenv('XLA_FLAGS')\n",
    "os.getenv('TF_FORCE_GPU_ALLOW_GROWTH')\n",
    "\n",
    "# Checking TensorFlow version\n",
    "print(tf.__version__)"
   ]
  },
  {
   "cell_type": "markdown",
   "metadata": {},
   "source": [
    "## Importing Dataset"
   ]
  },
  {
   "cell_type": "code",
   "execution_count": null,
   "metadata": {},
   "outputs": [],
   "source": [
    "data_dir = 'flower_images'\n",
    "\n",
    "# List of flower classes (subdirectories)\n",
    "classes = os.listdir(data_dir)\n",
    "num_classes = len(classes)\n",
    "\n",
    "# Initialize lists to store images and labels\n",
    "X = []\n",
    "y = []\n",
    "\n",
    "# Load images and labels\n",
    "for i, cls in enumerate(classes):\n",
    "    class_dir = os.path.join(data_dir, cls)\n",
    "    images = os.listdir(class_dir)\n",
    "    for img_name in images:\n",
    "        img_path = os.path.join(class_dir, img_name)\n",
    "        img = load_img(img_path, target_size=(200,200))  # Load high-resolution images\n",
    "        img_array = img_to_array(img)\n",
    "        X.append(img_array)\n",
    "        y.append(i)  # Assign label to image\n",
    "\n",
    "# Convert lists to arrays\n",
    "X = np.array(X)\n",
    "y = np.array(y)\n",
    "\n",
    "# One-hot encode labels\n",
    "y = to_categorical(y, num_classes=num_classes)\n",
    "\n",
    "# Split dataset into training and testing sets\n",
    "X_train, X_test, y_train, y_test = train_test_split(X, y, test_size=0.2, random_state=42)\n",
    "\n",
    "\n",
    "num_samples_per_class = 5\n",
    "plt.figure(figsize=(15, 10))\n",
    "\n",
    "for i, cls in enumerate(classes):\n",
    "    class_indices = np.where(np.argmax(y_train, axis=1) == i)[0]\n",
    "    sampled_indices = np.random.choice(class_indices, num_samples_per_class, replace=False)\n",
    "    for j, idx in enumerate(sampled_indices):\n",
    "        plt.subplot(len(classes), num_samples_per_class, i * num_samples_per_class + j + 1)\n",
    "        plt.imshow(X_train[idx].astype(np.uint8))\n",
    "        plt.title(cls)\n",
    "        plt.axis('off')\n",
    "\n",
    "plt.show()\n",
    "\n",
    "class_distribution_train = {cls: np.sum(np.argmax(y_train, axis=1) == i) for i, cls in enumerate(classes)}\n",
    "print(\"Training Set Class Distribution:\", class_distribution_train)\n",
    "\n",
    "plt.bar(class_distribution_train.keys(), class_distribution_train.values())\n",
    "plt.xlabel('Classes')\n",
    "plt.ylabel('Number of Samples')\n",
    "plt.title('Training Set Class Distribution')\n",
    "plt.xticks(rotation=45)\n",
    "plt.show()\n",
    "\n",
    "class_distribution_test = {cls: np.sum(np.argmax(y_test, axis=1) == i) for i, cls in enumerate(classes)}\n",
    "print(\"Testing Set Class Distribution:\", class_distribution_test)\n",
    "\n",
    "plt.bar(class_distribution_test.keys(), class_distribution_test.values())\n",
    "plt.xlabel('Classes')\n",
    "plt.ylabel('Number of Samples')\n",
    "plt.title('Testing Set Class Distribution')\n",
    "plt.xticks(rotation=45)\n",
    "plt.show()\n",
    "\n"
   ]
  },
  {
   "cell_type": "markdown",
   "metadata": {},
   "source": [
    "## Preprocessing the Data"
   ]
  },
  {
   "cell_type": "code",
   "execution_count": null,
   "metadata": {},
   "outputs": [],
   "source": [
    "# X_train_flattened = X_train.reshape(X_train.shape[0], -1)\n",
    "# pca = PCA(n_components=50)\n",
    "# X_train_pca = pca.fit_transform(X_train_flattened)\n",
    "\n",
    "# X_test_flattened = X_test.reshape(X_test.shape[0], -1)\n",
    "# X_test_pca = pca.transform(X_test_flattened)\n",
    "\n",
    "# print(\"Explained Variance Ratio:\", pca.explained_variance_ratio_)\n",
    "\n",
    "# plt.plot(np.cumsum(pca.explained_variance_ratio_))\n",
    "# plt.xlabel('Number of Components')\n",
    "# plt.ylabel('Cumulative Explained Variance Ratio')\n",
    "# plt.title('PCA Explained Variance Ratio')\n",
    "# plt.show()\n",
    "\n",
    "img_datagen = ImageDataGenerator(\n",
    "    rescale=1./255\n",
    ")\n",
    "\n",
    "train_generator = img_datagen.flow(X_train, y_train, batch_size=32)\n",
    "validation_generator = img_datagen.flow(X_test, y_test, batch_size=32)\n"
   ]
  },
  {
   "cell_type": "markdown",
   "metadata": {},
   "source": [
    "## Defining the Model"
   ]
  },
  {
   "cell_type": "code",
   "execution_count": null,
   "metadata": {},
   "outputs": [],
   "source": [
    "model = Sequential([\n",
    "    layers.Conv2D(32, (3, 3), activation='relu', input_shape=(200, 200, 3)),\n",
    "    layers.MaxPooling2D((2, 2)),\n",
    "    layers.Conv2D(64, (3, 3), activation='relu'),\n",
    "    layers.MaxPooling2D((2, 2)),\n",
    "    layers.Conv2D(128, (3, 3), activation='relu'),\n",
    "    layers.MaxPooling2D((2, 2)),\n",
    "    layers.Flatten(),\n",
    "    layers.Dense(128, activation='relu'),\n",
    "    layers.Dropout(0.5),\n",
    "    layers.Dense(num_classes, activation='softmax')\n",
    "])\n",
    "\n",
    "\n",
    "model.compile(optimizer='adam',\n",
    "              loss='categorical_crossentropy', \n",
    "              metrics=['accuracy'])"
   ]
  },
  {
   "cell_type": "markdown",
   "metadata": {},
   "source": [
    "## Training and Testing the Model"
   ]
  },
  {
   "cell_type": "code",
   "execution_count": null,
   "metadata": {},
   "outputs": [],
   "source": [
    "history = model.fit(train_generator, epochs=25, \n",
    "                    validation_data=validation_generator)\n",
    "\n",
    "model.save('flower_detection.keras')\n",
    "\n",
    "plt.figure(figsize=(12, 4))\n",
    "plt.subplot(1, 2, 1)\n",
    "plt.plot(history.history['accuracy'])\n",
    "plt.plot(history.history['val_accuracy'])\n",
    "plt.title('Model accuracy')\n",
    "plt.xlabel('Epoch')\n",
    "plt.ylabel('Accuracy')\n",
    "plt.legend(['Train', 'Test'], loc='upper left')\n",
    "plt.subplot(1, 2, 2)\n",
    "plt.plot(history.history['loss'])\n",
    "plt.plot(history.history['val_loss'])\n",
    "plt.title('Model loss')\n",
    "plt.xlabel('Epoch')\n",
    "plt.ylabel('Loss')\n",
    "plt.legend(['Train', 'Test'], loc='upper left')\n",
    "\n",
    "plt.show()\n",
    "\n",
    "test_loss, test_acc = model.evaluate(X_test, y_test, verbose=2)\n",
    "print(f'Test accuracy: {test_acc}')\n",
    "\n",
    "keras.backend.clear_session()"
   ]
  },
  {
   "cell_type": "markdown",
   "metadata": {},
   "source": [
    "## Making a Prediction"
   ]
  },
  {
   "cell_type": "code",
   "execution_count": null,
   "metadata": {},
   "outputs": [],
   "source": [
    "def preprocess_image(image_path):\n",
    "    img = load_img(image_path, target_size=(200, 200))  \n",
    "    img_array = img_to_array(img)\n",
    "    img_array = img_array / 255.0  \n",
    "    img_array = np.expand_dims(img_array, axis=0) \n",
    "    return img_array\n",
    "\n",
    "image_path = '0b26b4523e.jpg'\n",
    "preprocessed_image = preprocess_image(image_path)\n",
    "\n",
    "predictions = model.predict(preprocessed_image)\n",
    "predicted_class = np.argmax(predictions, axis=1)\n",
    "print(f'Predicted class: {predicted_class[0]}')\n",
    "\n",
    "class_names = os.listdir(data_dir)  \n",
    "\n",
    "predicted_class_name = class_names[predicted_class[0]]\n",
    "print(f'Predicted class name: {predicted_class_name}')"
   ]
  }
 ],
 "metadata": {
  "kernelspec": {
   "display_name": ".venv",
   "language": "python",
   "name": "python3"
  },
  "language_info": {
   "codemirror_mode": {
    "name": "ipython",
    "version": 3
   },
   "file_extension": ".py",
   "mimetype": "text/x-python",
   "name": "python",
   "nbconvert_exporter": "python",
   "pygments_lexer": "ipython3",
   "version": "3.12.3"
  }
 },
 "nbformat": 4,
 "nbformat_minor": 2
}
